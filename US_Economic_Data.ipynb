{
 "cells": [
  {
   "cell_type": "markdown",
   "id": "780947ec",
   "metadata": {},
   "source": [
    "# US Economic Data\n",
    "In this analysis, we will be taking a look over some US economic datasets provided by DataHub.com. These data sets can be found [here](https://datahub.io/collections/economic-data). The data sets we will be using can be found under the US Economic Data section and are as listed; GDP, CPI, Employment, and Household Incomes."
   ]
  },
  {
   "cell_type": "markdown",
   "id": "62fdcfbb",
   "metadata": {},
   "source": [
    "## Goals\n",
    "\n",
    "> * What percentage of income growth went to each segment of the population each year? Has this changed over time?\n",
    "> * Does GDP growth lead to better employment?\n",
    "> * Does GDP growth lead to increases in the Consumer Price Index?\n",
    "> * As labor force population has grown, has GDP grown proportionally?\n",
    "> * How has the job market in the US developed over time. Are more or less people working in agriculture. Has the percentage of the population in the labor force grown or shrank?\n"
   ]
  },
  {
   "cell_type": "markdown",
   "id": "d02be247",
   "metadata": {},
   "source": [
    "### Import necessary packages"
   ]
  },
  {
   "cell_type": "code",
   "execution_count": 282,
   "id": "2cfc4898",
   "metadata": {},
   "outputs": [],
   "source": [
    "import pandas as pd\n",
    "import numpy as np\n",
    "import matplotlib.pyplot as plt\n",
    "import seaborn as sns"
   ]
  },
  {
   "cell_type": "markdown",
   "id": "4127df73",
   "metadata": {},
   "source": [
    "### Import data sets and review"
   ]
  },
  {
   "cell_type": "code",
   "execution_count": 283,
   "id": "4812b222",
   "metadata": {},
   "outputs": [],
   "source": [
    "cpi = pd.read_csv(\"cpi.csv\")\n",
    "cpi.name = \"cpi\"\n",
    "income = pd.read_csv(\"household_income_us.csv\")\n",
    "income.name = \"income\"\n",
    "gdp_yearly = pd.read_csv(\"year_gdp.csv\")\n",
    "gdp_yearly.name = \"gdp_yearly\"\n",
    "employment = pd.read_csv(\"us_employment.csv\")\n",
    "employment.name = \"employment\"\n",
    "DFrames = [cpi, income, gdp_yearly, employment]"
   ]
  },
  {
   "cell_type": "code",
   "execution_count": 284,
   "id": "e7b4c962",
   "metadata": {},
   "outputs": [
    {
     "name": "stdout",
     "output_type": "stream",
     "text": [
      "-----------------------------------------\n",
      "cpi\n"
     ]
    },
    {
     "data": {
      "text/html": [
       "<div>\n",
       "<style scoped>\n",
       "    .dataframe tbody tr th:only-of-type {\n",
       "        vertical-align: middle;\n",
       "    }\n",
       "\n",
       "    .dataframe tbody tr th {\n",
       "        vertical-align: top;\n",
       "    }\n",
       "\n",
       "    .dataframe thead th {\n",
       "        text-align: right;\n",
       "    }\n",
       "</style>\n",
       "<table border=\"1\" class=\"dataframe\">\n",
       "  <thead>\n",
       "    <tr style=\"text-align: right;\">\n",
       "      <th></th>\n",
       "      <th>Date</th>\n",
       "      <th>Index</th>\n",
       "      <th>Inflation</th>\n",
       "    </tr>\n",
       "  </thead>\n",
       "  <tbody>\n",
       "    <tr>\n",
       "      <th>0</th>\n",
       "      <td>1913-01-01</td>\n",
       "      <td>9.8</td>\n",
       "      <td>NaN</td>\n",
       "    </tr>\n",
       "    <tr>\n",
       "      <th>1</th>\n",
       "      <td>1913-02-01</td>\n",
       "      <td>9.8</td>\n",
       "      <td>0.00</td>\n",
       "    </tr>\n",
       "    <tr>\n",
       "      <th>2</th>\n",
       "      <td>1913-03-01</td>\n",
       "      <td>9.8</td>\n",
       "      <td>0.00</td>\n",
       "    </tr>\n",
       "    <tr>\n",
       "      <th>3</th>\n",
       "      <td>1913-04-01</td>\n",
       "      <td>9.8</td>\n",
       "      <td>0.00</td>\n",
       "    </tr>\n",
       "    <tr>\n",
       "      <th>4</th>\n",
       "      <td>1913-05-01</td>\n",
       "      <td>9.7</td>\n",
       "      <td>-1.02</td>\n",
       "    </tr>\n",
       "  </tbody>\n",
       "</table>\n",
       "</div>"
      ],
      "text/plain": [
       "         Date  Index  Inflation\n",
       "0  1913-01-01    9.8        NaN\n",
       "1  1913-02-01    9.8       0.00\n",
       "2  1913-03-01    9.8       0.00\n",
       "3  1913-04-01    9.8       0.00\n",
       "4  1913-05-01    9.7      -1.02"
      ]
     },
     "metadata": {},
     "output_type": "display_data"
    },
    {
     "data": {
      "text/html": [
       "<div>\n",
       "<style scoped>\n",
       "    .dataframe tbody tr th:only-of-type {\n",
       "        vertical-align: middle;\n",
       "    }\n",
       "\n",
       "    .dataframe tbody tr th {\n",
       "        vertical-align: top;\n",
       "    }\n",
       "\n",
       "    .dataframe thead th {\n",
       "        text-align: right;\n",
       "    }\n",
       "</style>\n",
       "<table border=\"1\" class=\"dataframe\">\n",
       "  <thead>\n",
       "    <tr style=\"text-align: right;\">\n",
       "      <th></th>\n",
       "      <th>Index</th>\n",
       "      <th>Inflation</th>\n",
       "    </tr>\n",
       "  </thead>\n",
       "  <tbody>\n",
       "    <tr>\n",
       "      <th>count</th>\n",
       "      <td>1213.00000</td>\n",
       "      <td>1212.000000</td>\n",
       "    </tr>\n",
       "    <tr>\n",
       "      <th>mean</th>\n",
       "      <td>70.36088</td>\n",
       "      <td>0.264323</td>\n",
       "    </tr>\n",
       "    <tr>\n",
       "      <th>std</th>\n",
       "      <td>68.90227</td>\n",
       "      <td>0.661847</td>\n",
       "    </tr>\n",
       "    <tr>\n",
       "      <th>min</th>\n",
       "      <td>9.70000</td>\n",
       "      <td>-3.160000</td>\n",
       "    </tr>\n",
       "    <tr>\n",
       "      <th>25%</th>\n",
       "      <td>17.30000</td>\n",
       "      <td>0.000000</td>\n",
       "    </tr>\n",
       "    <tr>\n",
       "      <th>50%</th>\n",
       "      <td>30.70000</td>\n",
       "      <td>0.240000</td>\n",
       "    </tr>\n",
       "    <tr>\n",
       "      <th>75%</th>\n",
       "      <td>120.20000</td>\n",
       "      <td>0.560000</td>\n",
       "    </tr>\n",
       "    <tr>\n",
       "      <th>max</th>\n",
       "      <td>234.14900</td>\n",
       "      <td>5.880000</td>\n",
       "    </tr>\n",
       "  </tbody>\n",
       "</table>\n",
       "</div>"
      ],
      "text/plain": [
       "            Index    Inflation\n",
       "count  1213.00000  1212.000000\n",
       "mean     70.36088     0.264323\n",
       "std      68.90227     0.661847\n",
       "min       9.70000    -3.160000\n",
       "25%      17.30000     0.000000\n",
       "50%      30.70000     0.240000\n",
       "75%     120.20000     0.560000\n",
       "max     234.14900     5.880000"
      ]
     },
     "metadata": {},
     "output_type": "display_data"
    },
    {
     "name": "stdout",
     "output_type": "stream",
     "text": [
      "-----------------------------------------\n",
      "income\n"
     ]
    },
    {
     "data": {
      "text/html": [
       "<div>\n",
       "<style scoped>\n",
       "    .dataframe tbody tr th:only-of-type {\n",
       "        vertical-align: middle;\n",
       "    }\n",
       "\n",
       "    .dataframe tbody tr th {\n",
       "        vertical-align: top;\n",
       "    }\n",
       "\n",
       "    .dataframe thead th {\n",
       "        text-align: right;\n",
       "    }\n",
       "</style>\n",
       "<table border=\"1\" class=\"dataframe\">\n",
       "  <thead>\n",
       "    <tr style=\"text-align: right;\">\n",
       "      <th></th>\n",
       "      <th>Year</th>\n",
       "      <th>Number (thousands)</th>\n",
       "      <th>Lowest</th>\n",
       "      <th>Second</th>\n",
       "      <th>Third</th>\n",
       "      <th>Fourth</th>\n",
       "      <th>Top 5 percent</th>\n",
       "    </tr>\n",
       "  </thead>\n",
       "  <tbody>\n",
       "    <tr>\n",
       "      <th>0</th>\n",
       "      <td>2016</td>\n",
       "      <td>126224</td>\n",
       "      <td>24518</td>\n",
       "      <td>46581</td>\n",
       "      <td>76479</td>\n",
       "      <td>123621.0</td>\n",
       "      <td>230095</td>\n",
       "    </tr>\n",
       "    <tr>\n",
       "      <th>1</th>\n",
       "      <td>2015</td>\n",
       "      <td>125819</td>\n",
       "      <td>23591</td>\n",
       "      <td>45020</td>\n",
       "      <td>74498</td>\n",
       "      <td>121060.0</td>\n",
       "      <td>221900</td>\n",
       "    </tr>\n",
       "    <tr>\n",
       "      <th>2</th>\n",
       "      <td>2014</td>\n",
       "      <td>124587</td>\n",
       "      <td>22213</td>\n",
       "      <td>42688</td>\n",
       "      <td>70699</td>\n",
       "      <td>116355.0</td>\n",
       "      <td>214100</td>\n",
       "    </tr>\n",
       "    <tr>\n",
       "      <th>3</th>\n",
       "      <td>2013</td>\n",
       "      <td>123931</td>\n",
       "      <td>22134</td>\n",
       "      <td>43251</td>\n",
       "      <td>70830</td>\n",
       "      <td>116186.0</td>\n",
       "      <td>216208</td>\n",
       "    </tr>\n",
       "    <tr>\n",
       "      <th>4</th>\n",
       "      <td>2013</td>\n",
       "      <td>122952</td>\n",
       "      <td>22029</td>\n",
       "      <td>42358</td>\n",
       "      <td>69039</td>\n",
       "      <td>111631.0</td>\n",
       "      <td>206587</td>\n",
       "    </tr>\n",
       "  </tbody>\n",
       "</table>\n",
       "</div>"
      ],
      "text/plain": [
       "   Year  Number (thousands)  Lowest  Second  Third    Fourth  Top 5 percent\n",
       "0  2016              126224   24518   46581  76479  123621.0         230095\n",
       "1  2015              125819   23591   45020  74498  121060.0         221900\n",
       "2  2014              124587   22213   42688  70699  116355.0         214100\n",
       "3  2013              123931   22134   43251  70830  116186.0         216208\n",
       "4  2013              122952   22029   42358  69039  111631.0         206587"
      ]
     },
     "metadata": {},
     "output_type": "display_data"
    },
    {
     "data": {
      "text/html": [
       "<div>\n",
       "<style scoped>\n",
       "    .dataframe tbody tr th:only-of-type {\n",
       "        vertical-align: middle;\n",
       "    }\n",
       "\n",
       "    .dataframe tbody tr th {\n",
       "        vertical-align: top;\n",
       "    }\n",
       "\n",
       "    .dataframe thead th {\n",
       "        text-align: right;\n",
       "    }\n",
       "</style>\n",
       "<table border=\"1\" class=\"dataframe\">\n",
       "  <thead>\n",
       "    <tr style=\"text-align: right;\">\n",
       "      <th></th>\n",
       "      <th>Year</th>\n",
       "      <th>Number (thousands)</th>\n",
       "      <th>Lowest</th>\n",
       "      <th>Second</th>\n",
       "      <th>Third</th>\n",
       "      <th>Fourth</th>\n",
       "      <th>Top 5 percent</th>\n",
       "    </tr>\n",
       "  </thead>\n",
       "  <tbody>\n",
       "    <tr>\n",
       "      <th>count</th>\n",
       "      <td>51.000000</td>\n",
       "      <td>51.000000</td>\n",
       "      <td>51.000000</td>\n",
       "      <td>51.000000</td>\n",
       "      <td>51.000000</td>\n",
       "      <td>51.000000</td>\n",
       "      <td>51.000000</td>\n",
       "    </tr>\n",
       "    <tr>\n",
       "      <th>mean</th>\n",
       "      <td>1991.921569</td>\n",
       "      <td>96165.137255</td>\n",
       "      <td>22448.745098</td>\n",
       "      <td>42478.313725</td>\n",
       "      <td>66259.490196</td>\n",
       "      <td>101825.588235</td>\n",
       "      <td>175419.333333</td>\n",
       "    </tr>\n",
       "    <tr>\n",
       "      <th>std</th>\n",
       "      <td>14.741565</td>\n",
       "      <td>19827.953217</td>\n",
       "      <td>1414.130473</td>\n",
       "      <td>2520.887792</td>\n",
       "      <td>5803.422919</td>\n",
       "      <td>13190.696043</td>\n",
       "      <td>31714.247735</td>\n",
       "    </tr>\n",
       "    <tr>\n",
       "      <th>min</th>\n",
       "      <td>1967.000000</td>\n",
       "      <td>60813.000000</td>\n",
       "      <td>19305.000000</td>\n",
       "      <td>37644.000000</td>\n",
       "      <td>53429.000000</td>\n",
       "      <td>76190.000000</td>\n",
       "      <td>122264.000000</td>\n",
       "    </tr>\n",
       "    <tr>\n",
       "      <th>25%</th>\n",
       "      <td>1979.500000</td>\n",
       "      <td>81572.000000</td>\n",
       "      <td>21345.000000</td>\n",
       "      <td>40596.000000</td>\n",
       "      <td>60946.500000</td>\n",
       "      <td>89249.500000</td>\n",
       "      <td>144656.000000</td>\n",
       "    </tr>\n",
       "    <tr>\n",
       "      <th>50%</th>\n",
       "      <td>1992.000000</td>\n",
       "      <td>96426.000000</td>\n",
       "      <td>22132.000000</td>\n",
       "      <td>42358.000000</td>\n",
       "      <td>66239.000000</td>\n",
       "      <td>101074.000000</td>\n",
       "      <td>175289.000000</td>\n",
       "    </tr>\n",
       "    <tr>\n",
       "      <th>75%</th>\n",
       "      <td>2004.500000</td>\n",
       "      <td>113863.500000</td>\n",
       "      <td>23559.000000</td>\n",
       "      <td>44560.500000</td>\n",
       "      <td>71209.500000</td>\n",
       "      <td>114506.000000</td>\n",
       "      <td>205675.000000</td>\n",
       "    </tr>\n",
       "    <tr>\n",
       "      <th>max</th>\n",
       "      <td>2016.000000</td>\n",
       "      <td>126224.000000</td>\n",
       "      <td>25580.000000</td>\n",
       "      <td>47110.000000</td>\n",
       "      <td>76479.000000</td>\n",
       "      <td>123621.000000</td>\n",
       "      <td>230095.000000</td>\n",
       "    </tr>\n",
       "  </tbody>\n",
       "</table>\n",
       "</div>"
      ],
      "text/plain": [
       "              Year  Number (thousands)        Lowest        Second  \\\n",
       "count    51.000000           51.000000     51.000000     51.000000   \n",
       "mean   1991.921569        96165.137255  22448.745098  42478.313725   \n",
       "std      14.741565        19827.953217   1414.130473   2520.887792   \n",
       "min    1967.000000        60813.000000  19305.000000  37644.000000   \n",
       "25%    1979.500000        81572.000000  21345.000000  40596.000000   \n",
       "50%    1992.000000        96426.000000  22132.000000  42358.000000   \n",
       "75%    2004.500000       113863.500000  23559.000000  44560.500000   \n",
       "max    2016.000000       126224.000000  25580.000000  47110.000000   \n",
       "\n",
       "              Third         Fourth  Top 5 percent  \n",
       "count     51.000000      51.000000      51.000000  \n",
       "mean   66259.490196  101825.588235  175419.333333  \n",
       "std     5803.422919   13190.696043   31714.247735  \n",
       "min    53429.000000   76190.000000  122264.000000  \n",
       "25%    60946.500000   89249.500000  144656.000000  \n",
       "50%    66239.000000  101074.000000  175289.000000  \n",
       "75%    71209.500000  114506.000000  205675.000000  \n",
       "max    76479.000000  123621.000000  230095.000000  "
      ]
     },
     "metadata": {},
     "output_type": "display_data"
    },
    {
     "name": "stdout",
     "output_type": "stream",
     "text": [
      "-----------------------------------------\n",
      "gdp_yearly\n"
     ]
    },
    {
     "data": {
      "text/html": [
       "<div>\n",
       "<style scoped>\n",
       "    .dataframe tbody tr th:only-of-type {\n",
       "        vertical-align: middle;\n",
       "    }\n",
       "\n",
       "    .dataframe tbody tr th {\n",
       "        vertical-align: top;\n",
       "    }\n",
       "\n",
       "    .dataframe thead th {\n",
       "        text-align: right;\n",
       "    }\n",
       "</style>\n",
       "<table border=\"1\" class=\"dataframe\">\n",
       "  <thead>\n",
       "    <tr style=\"text-align: right;\">\n",
       "      <th></th>\n",
       "      <th>date</th>\n",
       "      <th>level-current</th>\n",
       "      <th>level-chained</th>\n",
       "      <th>change-current</th>\n",
       "      <th>change-chained</th>\n",
       "    </tr>\n",
       "  </thead>\n",
       "  <tbody>\n",
       "    <tr>\n",
       "      <th>0</th>\n",
       "      <td>1930</td>\n",
       "      <td>92.2</td>\n",
       "      <td>966.7</td>\n",
       "      <td>-16.0</td>\n",
       "      <td>-6.4</td>\n",
       "    </tr>\n",
       "    <tr>\n",
       "      <th>1</th>\n",
       "      <td>1931</td>\n",
       "      <td>77.4</td>\n",
       "      <td>904.8</td>\n",
       "      <td>-23.1</td>\n",
       "      <td>-12.9</td>\n",
       "    </tr>\n",
       "    <tr>\n",
       "      <th>2</th>\n",
       "      <td>1932</td>\n",
       "      <td>59.5</td>\n",
       "      <td>788.2</td>\n",
       "      <td>-4.0</td>\n",
       "      <td>-1.3</td>\n",
       "    </tr>\n",
       "    <tr>\n",
       "      <th>3</th>\n",
       "      <td>1933</td>\n",
       "      <td>57.2</td>\n",
       "      <td>778.3</td>\n",
       "      <td>16.9</td>\n",
       "      <td>10.8</td>\n",
       "    </tr>\n",
       "    <tr>\n",
       "      <th>4</th>\n",
       "      <td>1934</td>\n",
       "      <td>66.8</td>\n",
       "      <td>862.2</td>\n",
       "      <td>11.1</td>\n",
       "      <td>8.9</td>\n",
       "    </tr>\n",
       "  </tbody>\n",
       "</table>\n",
       "</div>"
      ],
      "text/plain": [
       "   date  level-current  level-chained  change-current  change-chained\n",
       "0  1930           92.2          966.7           -16.0            -6.4\n",
       "1  1931           77.4          904.8           -23.1           -12.9\n",
       "2  1932           59.5          788.2            -4.0            -1.3\n",
       "3  1933           57.2          778.3            16.9            10.8\n",
       "4  1934           66.8          862.2            11.1             8.9"
      ]
     },
     "metadata": {},
     "output_type": "display_data"
    },
    {
     "data": {
      "text/html": [
       "<div>\n",
       "<style scoped>\n",
       "    .dataframe tbody tr th:only-of-type {\n",
       "        vertical-align: middle;\n",
       "    }\n",
       "\n",
       "    .dataframe tbody tr th {\n",
       "        vertical-align: top;\n",
       "    }\n",
       "\n",
       "    .dataframe thead th {\n",
       "        text-align: right;\n",
       "    }\n",
       "</style>\n",
       "<table border=\"1\" class=\"dataframe\">\n",
       "  <thead>\n",
       "    <tr style=\"text-align: right;\">\n",
       "      <th></th>\n",
       "      <th>date</th>\n",
       "      <th>level-current</th>\n",
       "      <th>level-chained</th>\n",
       "      <th>change-current</th>\n",
       "      <th>change-chained</th>\n",
       "    </tr>\n",
       "  </thead>\n",
       "  <tbody>\n",
       "    <tr>\n",
       "      <th>count</th>\n",
       "      <td>86.000000</td>\n",
       "      <td>86.000000</td>\n",
       "      <td>86.000000</td>\n",
       "      <td>86.000000</td>\n",
       "      <td>86.000000</td>\n",
       "    </tr>\n",
       "    <tr>\n",
       "      <th>mean</th>\n",
       "      <td>1972.500000</td>\n",
       "      <td>4354.769767</td>\n",
       "      <td>6476.491860</td>\n",
       "      <td>6.587209</td>\n",
       "      <td>3.480233</td>\n",
       "    </tr>\n",
       "    <tr>\n",
       "      <th>std</th>\n",
       "      <td>24.969982</td>\n",
       "      <td>5357.258048</td>\n",
       "      <td>4790.501749</td>\n",
       "      <td>6.655414</td>\n",
       "      <td>4.795091</td>\n",
       "    </tr>\n",
       "    <tr>\n",
       "      <th>min</th>\n",
       "      <td>1930.000000</td>\n",
       "      <td>57.200000</td>\n",
       "      <td>778.300000</td>\n",
       "      <td>-23.100000</td>\n",
       "      <td>-12.900000</td>\n",
       "    </tr>\n",
       "    <tr>\n",
       "      <th>25%</th>\n",
       "      <td>1951.250000</td>\n",
       "      <td>352.400000</td>\n",
       "      <td>2384.025000</td>\n",
       "      <td>4.125000</td>\n",
       "      <td>1.725000</td>\n",
       "    </tr>\n",
       "    <tr>\n",
       "      <th>50%</th>\n",
       "      <td>1972.500000</td>\n",
       "      <td>1355.450000</td>\n",
       "      <td>5259.850000</td>\n",
       "      <td>6.300000</td>\n",
       "      <td>3.400000</td>\n",
       "    </tr>\n",
       "    <tr>\n",
       "      <th>75%</th>\n",
       "      <td>1993.750000</td>\n",
       "      <td>7201.275000</td>\n",
       "      <td>9809.300000</td>\n",
       "      <td>9.550000</td>\n",
       "      <td>5.175000</td>\n",
       "    </tr>\n",
       "    <tr>\n",
       "      <th>max</th>\n",
       "      <td>2015.000000</td>\n",
       "      <td>18120.700000</td>\n",
       "      <td>16471.500000</td>\n",
       "      <td>28.300000</td>\n",
       "      <td>18.900000</td>\n",
       "    </tr>\n",
       "  </tbody>\n",
       "</table>\n",
       "</div>"
      ],
      "text/plain": [
       "              date  level-current  level-chained  change-current  \\\n",
       "count    86.000000      86.000000      86.000000       86.000000   \n",
       "mean   1972.500000    4354.769767    6476.491860        6.587209   \n",
       "std      24.969982    5357.258048    4790.501749        6.655414   \n",
       "min    1930.000000      57.200000     778.300000      -23.100000   \n",
       "25%    1951.250000     352.400000    2384.025000        4.125000   \n",
       "50%    1972.500000    1355.450000    5259.850000        6.300000   \n",
       "75%    1993.750000    7201.275000    9809.300000        9.550000   \n",
       "max    2015.000000   18120.700000   16471.500000       28.300000   \n",
       "\n",
       "       change-chained  \n",
       "count       86.000000  \n",
       "mean         3.480233  \n",
       "std          4.795091  \n",
       "min        -12.900000  \n",
       "25%          1.725000  \n",
       "50%          3.400000  \n",
       "75%          5.175000  \n",
       "max         18.900000  "
      ]
     },
     "metadata": {},
     "output_type": "display_data"
    },
    {
     "name": "stdout",
     "output_type": "stream",
     "text": [
      "-----------------------------------------\n",
      "employment\n"
     ]
    },
    {
     "data": {
      "text/html": [
       "<div>\n",
       "<style scoped>\n",
       "    .dataframe tbody tr th:only-of-type {\n",
       "        vertical-align: middle;\n",
       "    }\n",
       "\n",
       "    .dataframe tbody tr th {\n",
       "        vertical-align: top;\n",
       "    }\n",
       "\n",
       "    .dataframe thead th {\n",
       "        text-align: right;\n",
       "    }\n",
       "</style>\n",
       "<table border=\"1\" class=\"dataframe\">\n",
       "  <thead>\n",
       "    <tr style=\"text-align: right;\">\n",
       "      <th></th>\n",
       "      <th>year</th>\n",
       "      <th>population</th>\n",
       "      <th>labor_force</th>\n",
       "      <th>population_percent</th>\n",
       "      <th>employed_total</th>\n",
       "      <th>employed_percent</th>\n",
       "      <th>agrictulture_ratio</th>\n",
       "      <th>nonagriculture_ratio</th>\n",
       "      <th>unemployed</th>\n",
       "      <th>unemployed_percent</th>\n",
       "      <th>not_in_labor</th>\n",
       "      <th>footnotes</th>\n",
       "    </tr>\n",
       "  </thead>\n",
       "  <tbody>\n",
       "    <tr>\n",
       "      <th>0</th>\n",
       "      <td>1941</td>\n",
       "      <td>99900</td>\n",
       "      <td>55910</td>\n",
       "      <td>56.0</td>\n",
       "      <td>50350</td>\n",
       "      <td>50.4</td>\n",
       "      <td>9100</td>\n",
       "      <td>41250</td>\n",
       "      <td>5560</td>\n",
       "      <td>9.9</td>\n",
       "      <td>43990</td>\n",
       "      <td>NaN</td>\n",
       "    </tr>\n",
       "    <tr>\n",
       "      <th>1</th>\n",
       "      <td>1942</td>\n",
       "      <td>98640</td>\n",
       "      <td>56410</td>\n",
       "      <td>57.2</td>\n",
       "      <td>53750</td>\n",
       "      <td>54.5</td>\n",
       "      <td>9250</td>\n",
       "      <td>44500</td>\n",
       "      <td>2660</td>\n",
       "      <td>4.7</td>\n",
       "      <td>42230</td>\n",
       "      <td>NaN</td>\n",
       "    </tr>\n",
       "    <tr>\n",
       "      <th>2</th>\n",
       "      <td>1943</td>\n",
       "      <td>94640</td>\n",
       "      <td>55540</td>\n",
       "      <td>58.7</td>\n",
       "      <td>54470</td>\n",
       "      <td>57.6</td>\n",
       "      <td>9080</td>\n",
       "      <td>45390</td>\n",
       "      <td>1070</td>\n",
       "      <td>1.9</td>\n",
       "      <td>39100</td>\n",
       "      <td>NaN</td>\n",
       "    </tr>\n",
       "    <tr>\n",
       "      <th>3</th>\n",
       "      <td>1944</td>\n",
       "      <td>93220</td>\n",
       "      <td>54630</td>\n",
       "      <td>58.6</td>\n",
       "      <td>53960</td>\n",
       "      <td>57.9</td>\n",
       "      <td>8950</td>\n",
       "      <td>45010</td>\n",
       "      <td>670</td>\n",
       "      <td>1.2</td>\n",
       "      <td>38590</td>\n",
       "      <td>NaN</td>\n",
       "    </tr>\n",
       "    <tr>\n",
       "      <th>4</th>\n",
       "      <td>1945</td>\n",
       "      <td>94090</td>\n",
       "      <td>53860</td>\n",
       "      <td>57.2</td>\n",
       "      <td>52820</td>\n",
       "      <td>56.1</td>\n",
       "      <td>8580</td>\n",
       "      <td>44240</td>\n",
       "      <td>1040</td>\n",
       "      <td>1.9</td>\n",
       "      <td>40230</td>\n",
       "      <td>NaN</td>\n",
       "    </tr>\n",
       "  </tbody>\n",
       "</table>\n",
       "</div>"
      ],
      "text/plain": [
       "   year  population  labor_force  population_percent  employed_total  \\\n",
       "0  1941       99900        55910                56.0           50350   \n",
       "1  1942       98640        56410                57.2           53750   \n",
       "2  1943       94640        55540                58.7           54470   \n",
       "3  1944       93220        54630                58.6           53960   \n",
       "4  1945       94090        53860                57.2           52820   \n",
       "\n",
       "   employed_percent  agrictulture_ratio  nonagriculture_ratio  unemployed  \\\n",
       "0              50.4                9100                 41250        5560   \n",
       "1              54.5                9250                 44500        2660   \n",
       "2              57.6                9080                 45390        1070   \n",
       "3              57.9                8950                 45010         670   \n",
       "4              56.1                8580                 44240        1040   \n",
       "\n",
       "   unemployed_percent  not_in_labor  footnotes  \n",
       "0                 9.9         43990        NaN  \n",
       "1                 4.7         42230        NaN  \n",
       "2                 1.9         39100        NaN  \n",
       "3                 1.2         38590        NaN  \n",
       "4                 1.9         40230        NaN  "
      ]
     },
     "metadata": {},
     "output_type": "display_data"
    },
    {
     "data": {
      "text/html": [
       "<div>\n",
       "<style scoped>\n",
       "    .dataframe tbody tr th:only-of-type {\n",
       "        vertical-align: middle;\n",
       "    }\n",
       "\n",
       "    .dataframe tbody tr th {\n",
       "        vertical-align: top;\n",
       "    }\n",
       "\n",
       "    .dataframe thead th {\n",
       "        text-align: right;\n",
       "    }\n",
       "</style>\n",
       "<table border=\"1\" class=\"dataframe\">\n",
       "  <thead>\n",
       "    <tr style=\"text-align: right;\">\n",
       "      <th></th>\n",
       "      <th>year</th>\n",
       "      <th>population</th>\n",
       "      <th>labor_force</th>\n",
       "      <th>population_percent</th>\n",
       "      <th>employed_total</th>\n",
       "      <th>employed_percent</th>\n",
       "      <th>agrictulture_ratio</th>\n",
       "      <th>nonagriculture_ratio</th>\n",
       "      <th>unemployed</th>\n",
       "      <th>unemployed_percent</th>\n",
       "      <th>not_in_labor</th>\n",
       "      <th>footnotes</th>\n",
       "    </tr>\n",
       "  </thead>\n",
       "  <tbody>\n",
       "    <tr>\n",
       "      <th>count</th>\n",
       "      <td>71.000000</td>\n",
       "      <td>71.000000</td>\n",
       "      <td>71.000000</td>\n",
       "      <td>71.000000</td>\n",
       "      <td>71.000000</td>\n",
       "      <td>71.000000</td>\n",
       "      <td>71.000000</td>\n",
       "      <td>71.000000</td>\n",
       "      <td>71.000000</td>\n",
       "      <td>71.000000</td>\n",
       "      <td>71.000000</td>\n",
       "      <td>21.0</td>\n",
       "    </tr>\n",
       "    <tr>\n",
       "      <th>mean</th>\n",
       "      <td>1975.098592</td>\n",
       "      <td>156272.521127</td>\n",
       "      <td>98707.492958</td>\n",
       "      <td>62.230986</td>\n",
       "      <td>93033.577465</td>\n",
       "      <td>58.773239</td>\n",
       "      <td>4456.492958</td>\n",
       "      <td>88577.028169</td>\n",
       "      <td>5673.774648</td>\n",
       "      <td>5.509859</td>\n",
       "      <td>57564.929577</td>\n",
       "      <td>1.0</td>\n",
       "    </tr>\n",
       "    <tr>\n",
       "      <th>std</th>\n",
       "      <td>20.486340</td>\n",
       "      <td>44979.642300</td>\n",
       "      <td>33380.727804</td>\n",
       "      <td>3.513793</td>\n",
       "      <td>30992.290437</td>\n",
       "      <td>3.140380</td>\n",
       "      <td>2055.547406</td>\n",
       "      <td>32739.727633</td>\n",
       "      <td>2954.030173</td>\n",
       "      <td>1.818803</td>\n",
       "      <td>11795.889143</td>\n",
       "      <td>0.0</td>\n",
       "    </tr>\n",
       "    <tr>\n",
       "      <th>min</th>\n",
       "      <td>1941.000000</td>\n",
       "      <td>93220.000000</td>\n",
       "      <td>53860.000000</td>\n",
       "      <td>55.800000</td>\n",
       "      <td>50350.000000</td>\n",
       "      <td>50.400000</td>\n",
       "      <td>2095.000000</td>\n",
       "      <td>41250.000000</td>\n",
       "      <td>670.000000</td>\n",
       "      <td>1.200000</td>\n",
       "      <td>38590.000000</td>\n",
       "      <td>1.0</td>\n",
       "    </tr>\n",
       "    <tr>\n",
       "      <th>25%</th>\n",
       "      <td>1957.500000</td>\n",
       "      <td>112996.000000</td>\n",
       "      <td>67284.000000</td>\n",
       "      <td>59.200000</td>\n",
       "      <td>63935.000000</td>\n",
       "      <td>56.400000</td>\n",
       "      <td>3235.000000</td>\n",
       "      <td>57818.500000</td>\n",
       "      <td>3131.500000</td>\n",
       "      <td>4.350000</td>\n",
       "      <td>45969.000000</td>\n",
       "      <td>1.0</td>\n",
       "    </tr>\n",
       "    <tr>\n",
       "      <th>50%</th>\n",
       "      <td>1975.000000</td>\n",
       "      <td>153153.000000</td>\n",
       "      <td>93774.000000</td>\n",
       "      <td>61.300000</td>\n",
       "      <td>86794.000000</td>\n",
       "      <td>57.800000</td>\n",
       "      <td>3440.000000</td>\n",
       "      <td>83279.000000</td>\n",
       "      <td>5692.000000</td>\n",
       "      <td>5.500000</td>\n",
       "      <td>59377.000000</td>\n",
       "      <td>1.0</td>\n",
       "    </tr>\n",
       "    <tr>\n",
       "      <th>75%</th>\n",
       "      <td>1992.500000</td>\n",
       "      <td>193821.500000</td>\n",
       "      <td>128652.500000</td>\n",
       "      <td>66.000000</td>\n",
       "      <td>119526.000000</td>\n",
       "      <td>61.950000</td>\n",
       "      <td>5766.500000</td>\n",
       "      <td>116357.000000</td>\n",
       "      <td>7614.000000</td>\n",
       "      <td>6.450000</td>\n",
       "      <td>65169.000000</td>\n",
       "      <td>1.0</td>\n",
       "    </tr>\n",
       "    <tr>\n",
       "      <th>max</th>\n",
       "      <td>2010.000000</td>\n",
       "      <td>237830.000000</td>\n",
       "      <td>154287.000000</td>\n",
       "      <td>67.100000</td>\n",
       "      <td>146047.000000</td>\n",
       "      <td>64.400000</td>\n",
       "      <td>9250.000000</td>\n",
       "      <td>143952.000000</td>\n",
       "      <td>14825.000000</td>\n",
       "      <td>9.900000</td>\n",
       "      <td>83941.000000</td>\n",
       "      <td>1.0</td>\n",
       "    </tr>\n",
       "  </tbody>\n",
       "</table>\n",
       "</div>"
      ],
      "text/plain": [
       "              year     population    labor_force  population_percent  \\\n",
       "count    71.000000      71.000000      71.000000           71.000000   \n",
       "mean   1975.098592  156272.521127   98707.492958           62.230986   \n",
       "std      20.486340   44979.642300   33380.727804            3.513793   \n",
       "min    1941.000000   93220.000000   53860.000000           55.800000   \n",
       "25%    1957.500000  112996.000000   67284.000000           59.200000   \n",
       "50%    1975.000000  153153.000000   93774.000000           61.300000   \n",
       "75%    1992.500000  193821.500000  128652.500000           66.000000   \n",
       "max    2010.000000  237830.000000  154287.000000           67.100000   \n",
       "\n",
       "       employed_total  employed_percent  agrictulture_ratio  \\\n",
       "count       71.000000         71.000000           71.000000   \n",
       "mean     93033.577465         58.773239         4456.492958   \n",
       "std      30992.290437          3.140380         2055.547406   \n",
       "min      50350.000000         50.400000         2095.000000   \n",
       "25%      63935.000000         56.400000         3235.000000   \n",
       "50%      86794.000000         57.800000         3440.000000   \n",
       "75%     119526.000000         61.950000         5766.500000   \n",
       "max     146047.000000         64.400000         9250.000000   \n",
       "\n",
       "       nonagriculture_ratio    unemployed  unemployed_percent  not_in_labor  \\\n",
       "count             71.000000     71.000000           71.000000     71.000000   \n",
       "mean           88577.028169   5673.774648            5.509859  57564.929577   \n",
       "std            32739.727633   2954.030173            1.818803  11795.889143   \n",
       "min            41250.000000    670.000000            1.200000  38590.000000   \n",
       "25%            57818.500000   3131.500000            4.350000  45969.000000   \n",
       "50%            83279.000000   5692.000000            5.500000  59377.000000   \n",
       "75%           116357.000000   7614.000000            6.450000  65169.000000   \n",
       "max           143952.000000  14825.000000            9.900000  83941.000000   \n",
       "\n",
       "       footnotes  \n",
       "count       21.0  \n",
       "mean         1.0  \n",
       "std          0.0  \n",
       "min          1.0  \n",
       "25%          1.0  \n",
       "50%          1.0  \n",
       "75%          1.0  \n",
       "max          1.0  "
      ]
     },
     "metadata": {},
     "output_type": "display_data"
    }
   ],
   "source": [
    "for dataframe in DFrames:\n",
    "    print(\"-----------------------------------------\")\n",
    "    print(dataframe.name)\n",
    "    display(dataframe.head())\n",
    "    display(dataframe.describe())"
   ]
  },
  {
   "cell_type": "markdown",
   "id": "d659a62e",
   "metadata": {},
   "source": [
    "### Check for NaNs"
   ]
  },
  {
   "cell_type": "code",
   "execution_count": 285,
   "id": "accdf358",
   "metadata": {},
   "outputs": [
    {
     "name": "stdout",
     "output_type": "stream",
     "text": [
      "------------------------------\n",
      "cpi\n",
      "\n",
      "Date         0\n",
      "Index        0\n",
      "Inflation    1\n",
      "dtype: int64\n",
      "------------------------------\n",
      "income\n",
      "\n",
      "Year                  0\n",
      "Number (thousands)    0\n",
      "Lowest                0\n",
      "Second                0\n",
      "Third                 0\n",
      "Fourth                0\n",
      "Top 5 percent         0\n",
      "dtype: int64\n",
      "------------------------------\n",
      "gdp_yearly\n",
      "\n",
      "date              0\n",
      "level-current     0\n",
      "level-chained     0\n",
      "change-current    0\n",
      "change-chained    0\n",
      "dtype: int64\n",
      "------------------------------\n",
      "employment\n",
      "\n",
      "year                     0\n",
      "population               0\n",
      "labor_force              0\n",
      "population_percent       0\n",
      "employed_total           0\n",
      "employed_percent         0\n",
      "agrictulture_ratio       0\n",
      "nonagriculture_ratio     0\n",
      "unemployed               0\n",
      "unemployed_percent       0\n",
      "not_in_labor             0\n",
      "footnotes               50\n",
      "dtype: int64\n"
     ]
    }
   ],
   "source": [
    "for dataframe in DFrames:\n",
    "    print(\"------------------------------\")\n",
    "    print(dataframe.name + \"\\n\")\n",
    "    print(dataframe.isna().sum())"
   ]
  },
  {
   "cell_type": "markdown",
   "id": "f35f1379",
   "metadata": {},
   "source": [
    "We know the NaN in inflation column the Cpi data frame is row 0, where the inflation data starts. Because of this, lets impute a 0."
   ]
  },
  {
   "cell_type": "code",
   "execution_count": 286,
   "id": "baf8da33",
   "metadata": {},
   "outputs": [
    {
     "data": {
      "text/html": [
       "<div>\n",
       "<style scoped>\n",
       "    .dataframe tbody tr th:only-of-type {\n",
       "        vertical-align: middle;\n",
       "    }\n",
       "\n",
       "    .dataframe tbody tr th {\n",
       "        vertical-align: top;\n",
       "    }\n",
       "\n",
       "    .dataframe thead th {\n",
       "        text-align: right;\n",
       "    }\n",
       "</style>\n",
       "<table border=\"1\" class=\"dataframe\">\n",
       "  <thead>\n",
       "    <tr style=\"text-align: right;\">\n",
       "      <th></th>\n",
       "      <th>Date</th>\n",
       "      <th>Index</th>\n",
       "      <th>Inflation</th>\n",
       "    </tr>\n",
       "  </thead>\n",
       "  <tbody>\n",
       "    <tr>\n",
       "      <th>0</th>\n",
       "      <td>1913-01-01</td>\n",
       "      <td>9.8</td>\n",
       "      <td>0.00</td>\n",
       "    </tr>\n",
       "    <tr>\n",
       "      <th>1</th>\n",
       "      <td>1913-02-01</td>\n",
       "      <td>9.8</td>\n",
       "      <td>0.00</td>\n",
       "    </tr>\n",
       "    <tr>\n",
       "      <th>2</th>\n",
       "      <td>1913-03-01</td>\n",
       "      <td>9.8</td>\n",
       "      <td>0.00</td>\n",
       "    </tr>\n",
       "    <tr>\n",
       "      <th>3</th>\n",
       "      <td>1913-04-01</td>\n",
       "      <td>9.8</td>\n",
       "      <td>0.00</td>\n",
       "    </tr>\n",
       "    <tr>\n",
       "      <th>4</th>\n",
       "      <td>1913-05-01</td>\n",
       "      <td>9.7</td>\n",
       "      <td>-1.02</td>\n",
       "    </tr>\n",
       "  </tbody>\n",
       "</table>\n",
       "</div>"
      ],
      "text/plain": [
       "         Date  Index  Inflation\n",
       "0  1913-01-01    9.8       0.00\n",
       "1  1913-02-01    9.8       0.00\n",
       "2  1913-03-01    9.8       0.00\n",
       "3  1913-04-01    9.8       0.00\n",
       "4  1913-05-01    9.7      -1.02"
      ]
     },
     "execution_count": 286,
     "metadata": {},
     "output_type": "execute_result"
    }
   ],
   "source": [
    "cpi.iloc[(0,2)] = 0\n",
    "cpi.head()"
   ]
  },
  {
   "cell_type": "markdown",
   "id": "2c18774c",
   "metadata": {},
   "source": [
    "With over 50 missing values in the footnotes column of the employment data frame, as well as it only being a reference to footnotes being available in the original data, we will drop this column for future analyisis."
   ]
  },
  {
   "cell_type": "code",
   "execution_count": 287,
   "id": "3c3c5057",
   "metadata": {},
   "outputs": [],
   "source": [
    "employment = employment.drop(\"footnotes\", axis=1)\n"
   ]
  },
  {
   "cell_type": "markdown",
   "id": "24b28906",
   "metadata": {},
   "source": [
    "With our cleaning complete, we can move on to our analysis."
   ]
  },
  {
   "cell_type": "markdown",
   "id": "b0a2cea7",
   "metadata": {},
   "source": [
    "## What percentage of income growth went to each segment of the population each year? Has this changed over time?"
   ]
  },
  {
   "cell_type": "markdown",
   "id": "a14316e9",
   "metadata": {},
   "source": [
    "Let us see intially how the income is distributed each year."
   ]
  },
  {
   "cell_type": "code",
   "execution_count": 288,
   "id": "98e30eab",
   "metadata": {},
   "outputs": [
    {
     "data": {
      "text/plain": [
       "Text(0, 0.5, 'Income')"
      ]
     },
     "execution_count": 288,
     "metadata": {},
     "output_type": "execute_result"
    },
    {
     "data": {
      "image/png": "[encoded data removed]",
      "text/plain": [
       "<Figure size 432x288 with 1 Axes>"
      ]
     },
     "metadata": {
      "needs_background": "light"
     },
     "output_type": "display_data"
    }
   ],
   "source": [
    "columns = [\"Lowest\", \"Second\", \"Third\", \"Fourth\", \"Top 5 percent\"]\n",
    "for column in columns:\n",
    "    income_totals = sns.lineplot(data=income, y=column, x=\"Year\")\n",
    "income_totals.set_title(\"Highest Income per segement (Top 5% is lowest in group)\")    \n",
    "income_totals.set_ylabel(\"Income\")"
   ]
  },
  {
   "cell_type": "markdown",
   "id": "aa961bd4",
   "metadata": {},
   "source": [
    "Now we shall create a total_income column for us to use as a basis for percentage distribution. Using this, we can determine what percentage each segment makes up of the total. We will then plot what percentage of total_income each segment is as a linear model plot so we can see the trend line leads for each segment."
   ]
  },
  {
   "cell_type": "code",
   "execution_count": 289,
   "id": "a4c3e69c",
   "metadata": {
    "scrolled": false
   },
   "outputs": [
    {
     "data": {
      "image/png": "[encoded data removed]",
      "text/plain": [
       "<Figure size 360x360 with 1 Axes>"
      ]
     },
     "metadata": {
      "needs_background": "light"
     },
     "output_type": "display_data"
    },
    {
     "data": {
      "image/png": "[encoded data removed]",
      "text/plain": [
       "<Figure size 360x360 with 1 Axes>"
      ]
     },
     "metadata": {
      "needs_background": "light"
     },
     "output_type": "display_data"
    },
    {
     "data": {
      "image/png": "[encoded data removed]",
      "text/plain": [
       "<Figure size 360x360 with 1 Axes>"
      ]
     },
     "metadata": {
      "needs_background": "light"
     },
     "output_type": "display_data"
    },
    {
     "data": {
      "image/png": "[encoded data removed]",
      "text/plain": [
       "<Figure size 360x360 with 1 Axes>"
      ]
     },
     "metadata": {
      "needs_background": "light"
     },
     "output_type": "display_data"
    },
    {
     "data": {
      "image/png": "[encoded data removed]",
      "text/plain": [
       "<Figure size 360x360 with 1 Axes>"
      ]
     },
     "metadata": {
      "needs_background": "light"
     },
     "output_type": "display_data"
    }
   ],
   "source": [
    "income[\"total_income\"] = income.loc[:, columns].sum(axis=1)\n",
    "\n",
    "for column in columns:\n",
    "    income[column + \"_%\"] = income[column] / income[\"total_income\"] * 100\n",
    "for column in columns:\n",
    "    sns.lmplot(data=income, y=column+\"_%\", x=\"Year\")\n",
    "    plt.title(f\"{column} population segment's share of income by year\")\n",
    "    plt.ylabel(\"Percent of total income\")"
   ]
  },
  {
   "cell_type": "markdown",
   "id": "14aa949d",
   "metadata": {},
   "source": [
    "Here, we are able to see that for all for the first four segments of the population(20%, 40%, 60%, 80%), their share of the income has dropped over time. For the fourth segment (top 80% of earners) this flucuates from year to year, but there is a clear  decrease over time shown by the trend line. To counter this decrease of share, we see that the lowest of the top 5% of earners has seen an increase of roughly 7% over the past 40 years"
   ]
  },
  {
   "cell_type": "markdown",
   "id": "a763ae5c",
   "metadata": {},
   "source": [
    "## Does GDP growth lead to better employment?"
   ]
  },
  {
   "cell_type": "markdown",
   "id": "b9127732",
   "metadata": {},
   "source": [
    "First, we will see what the correlation between the change-current column of the gdp_yearly data frame and the unemployed_percent of the employment data frame. We will first need to merge our dataframes. Since we only want data from years in both datasets, let us use an inner merge on the date and year columns."
   ]
  },
  {
   "cell_type": "code",
   "execution_count": 290,
   "id": "e0c112fa",
   "metadata": {},
   "outputs": [
    {
     "name": "stdout",
     "output_type": "stream",
     "text": [
      "0.32304933260424445\n"
     ]
    }
   ],
   "source": [
    "gdp_employment = employment.merge(gdp_yearly, how=\"inner\", left_on=\"year\", right_on=\"date\")\n",
    "gdp_unemployment_corr = gdp_employment[\"change-current\"].corr(gdp_employment[\"unemployed_percent\"])\n",
    "print(gdp_unemployment_corr)"
   ]
  },
  {
   "cell_type": "markdown",
   "id": "98338484",
   "metadata": {},
   "source": [
    "This number, using the Pearson Method for correlation, tells us there is a weak positive correlation between gdp and unemployment. Let us visualize this."
   ]
  },
  {
   "cell_type": "code",
   "execution_count": 291,
   "id": "cff45710",
   "metadata": {},
   "outputs": [
    {
     "data": {
      "text/plain": [
       "Text(24.05000000000001, 0.5, 'Percentage of GDP growth from previous year')"
      ]
     },
     "execution_count": 291,
     "metadata": {},
     "output_type": "execute_result"
    },
    {
     "data": {
      "image/png": "[encoded data removed]",
      "text/plain": [
       "<Figure size 360x360 with 1 Axes>"
      ]
     },
     "metadata": {
      "needs_background": "light"
     },
     "output_type": "display_data"
    }
   ],
   "source": [
    "gdp_employment_graph = sns.lmplot(data=gdp_employment, x=\"unemployed_percent\", y=\"change-current\")\n",
    "plt.title(\"Correlation between unemployment and GDP growth\")\n",
    "plt.xlabel(\"Percentage of working population unemployed\")\n",
    "plt.ylabel(\"Percentage of GDP growth from previous year\")"
   ]
  },
  {
   "cell_type": "markdown",
   "id": "1d7270ca",
   "metadata": {},
   "source": [
    "## Does GDP growth lead to increases in the Consumer Price Index?"
   ]
  },
  {
   "cell_type": "markdown",
   "id": "1331fa02",
   "metadata": {},
   "source": [
    "To make the data easier to work with, we will recreate the merge process done in the previous section. With the CPI dataframe being reported on a monthly basis, we will first need to melt all this data to be just an average for the year. The inflation column will also need to be recalculated to be the yearly inflation instead of the average of the month to month."
   ]
  },
  {
   "cell_type": "code",
   "execution_count": 292,
   "id": "20906f47",
   "metadata": {},
   "outputs": [],
   "source": [
    "cpi['Year'] = pd.to_datetime(cpi['Date']).dt.year\n",
    "\n",
    "yearly_cpi = cpi.groupby('Year').mean().round(2)\n",
    "yearly_cpi['Inflation'] = yearly_cpi['Index'].pct_change().mul(100).round(2)\n",
    "yearly_cpi.reset_index(inplace=True)\n",
    "gdp_cpi = yearly_cpi.merge(gdp_yearly, how=\"inner\", left_on=\"Year\", right_on=\"date\")"
   ]
  },
  {
   "cell_type": "markdown",
   "id": "47d98a12",
   "metadata": {},
   "source": [
    "We will calculate the correlation using the Index and the level-current columns."
   ]
  },
  {
   "cell_type": "code",
   "execution_count": 293,
   "id": "8c4140af",
   "metadata": {},
   "outputs": [
    {
     "name": "stdout",
     "output_type": "stream",
     "text": [
      "0.9824846826637184\n"
     ]
    }
   ],
   "source": [
    "gdp_cpi_corr = gdp_cpi[\"Index\"].corr(gdp_cpi[\"level-current\"])\n",
    "print(gdp_cpi_corr)"
   ]
  },
  {
   "cell_type": "markdown",
   "id": "17b2f28f",
   "metadata": {},
   "source": [
    "Here we see a nearly 1-1 correlation between GDP growth and Consumer Price Index. Let us visualize this."
   ]
  },
  {
   "cell_type": "code",
   "execution_count": 294,
   "id": "ccad7cf9",
   "metadata": {},
   "outputs": [
    {
     "data": {
      "text/plain": [
       "Text(4.925000000000011, 0.5, 'GDP (Billions)')"
      ]
     },
     "execution_count": 294,
     "metadata": {},
     "output_type": "execute_result"
    },
    {
     "data": {
      "image/png": "[encoded data removed]",
      "text/plain": [
       "<Figure size 360x360 with 1 Axes>"
      ]
     },
     "metadata": {
      "needs_background": "light"
     },
     "output_type": "display_data"
    }
   ],
   "source": [
    "sns.lmplot(data=gdp_cpi, x=\"Index\",y=\"level-current\")\n",
    "plt.title(\"Correlation between Consumer Price Index and GDP\")\n",
    "plt.xlabel(\"Consumer Price Index\")\n",
    "plt.ylabel(\"GDP (Billions)\")"
   ]
  },
  {
   "cell_type": "markdown",
   "id": "98b178a4",
   "metadata": {},
   "source": [
    "## As labor force population has grown has GDP grown proportionally?"
   ]
  },
  {
   "cell_type": "markdown",
   "id": "ba7d620f",
   "metadata": {},
   "source": [
    "We will utilize the employment and gdp_yearly data sets to answer this question. We can use the previously created gdp_employment data frame for this. We want to know if there is a 1:1 growth in GDP, or if each worker now contributes more to GDP than in the past?"
   ]
  },
  {
   "cell_type": "markdown",
   "id": "49ee8b53",
   "metadata": {},
   "source": [
    "Let us first convert the labor_force column to billions for easier viewing. We will then graph the initial comparison."
   ]
  },
  {
   "cell_type": "code",
   "execution_count": 295,
   "id": "fe49ede0",
   "metadata": {},
   "outputs": [],
   "source": [
    "gdp_employment[\"labor_force\"] = gdp_employment[\"labor_force\"] / 1000"
   ]
  },
  {
   "cell_type": "code",
   "execution_count": 296,
   "id": "dd343a3e",
   "metadata": {
    "scrolled": true
   },
   "outputs": [
    {
     "data": {
      "text/plain": [
       "Text(0, 0.5, 'Labor Force Population (Millions)')"
      ]
     },
     "execution_count": 296,
     "metadata": {},
     "output_type": "execute_result"
    },
    {
     "data": {
      "image/png": "[encoded data removed]",
      "text/plain": [
       "<Figure size 432x288 with 1 Axes>"
      ]
     },
     "metadata": {
      "needs_background": "light"
     },
     "output_type": "display_data"
    }
   ],
   "source": [
    "labor_gdp = sns.scatterplot(data=gdp_employment, x=\"level-current\", y=\"labor_force\")\n",
    "plt.title(\"GDP vs Labor Force Population\")\n",
    "plt.xlabel(\"GDP (Billions)\")\n",
    "plt.ylabel(\"Labor Force Population (Millions)\")"
   ]
  },
  {
   "cell_type": "markdown",
   "id": "36b800ad",
   "metadata": {},
   "source": [
    "It appears that the ratio between labor force and gdp has changed significantly over time. We will first calculate the ratio for each year, then we will graph that ratio using the year data. Before running the calculations though, we should first convert each of our columns to their long form versions."
   ]
  },
  {
   "cell_type": "code",
   "execution_count": 297,
   "id": "6ddcd1ca",
   "metadata": {
    "scrolled": false
   },
   "outputs": [],
   "source": [
    "gdp_employment[\"labor_force\"] = gdp_employment[\"labor_force\"] * 1000000\n",
    "gdp_employment[\"level-current\"] = gdp_employment[\"level-current\"] * 1000000000\n",
    "gdp_employment[\"gdp_labor_ratio\"] = gdp_employment[\"level-current\"] / gdp_employment[\"labor_force\"]\n",
    "gdp_employment[\"gdp_labor_ratio\"] = gdp_employment[\"gdp_labor_ratio\"].round().astype(\"int\")"
   ]
  },
  {
   "cell_type": "code",
   "execution_count": 298,
   "id": "f9e6c955",
   "metadata": {},
   "outputs": [
    {
     "data": {
      "text/plain": [
       "Text(0, 0.5, 'GDP per worker')"
      ]
     },
     "execution_count": 298,
     "metadata": {},
     "output_type": "execute_result"
    },
    {
     "data": {
      "image/png": "[encoded data removed]",
      "text/plain": [
       "<Figure size 432x288 with 1 Axes>"
      ]
     },
     "metadata": {
      "needs_background": "light"
     },
     "output_type": "display_data"
    }
   ],
   "source": [
    "gdp_labor_ratio_yearly = sns.lineplot(data=gdp_employment, x=\"year\", y=\"gdp_labor_ratio\")\n",
    "plt.title(\"Average amount each worker contributes to GDP by year\")\n",
    "plt.xlabel(\"Year\")\n",
    "plt.ylabel(\"GDP per worker\")"
   ]
  },
  {
   "cell_type": "markdown",
   "id": "63f44544",
   "metadata": {},
   "source": [
    "The average amount that each worker has contributed to GDP has grown from 2,314/worker in 1941 all the way to 97,242/worker in 2010."
   ]
  },
  {
   "cell_type": "markdown",
   "id": "94cddeda",
   "metadata": {},
   "source": [
    "## How has the job market in the US developed over time. Are more or less people working in agriculture. "
   ]
  },
  {
   "cell_type": "markdown",
   "id": "99633ced",
   "metadata": {},
   "source": [
    "Let us first plot what percentage of the US working population has been in the agriculture industry."
   ]
  },
  {
   "cell_type": "code",
   "execution_count": 299,
   "id": "4edbf965",
   "metadata": {},
   "outputs": [],
   "source": [
    "employment[\"pct_agriculture\"] = employment[\"agrictulture_ratio\"] / employment[\"employed_total\"] * 100"
   ]
  },
  {
   "cell_type": "code",
   "execution_count": 300,
   "id": "ff95bbf0",
   "metadata": {},
   "outputs": [
    {
     "data": {
      "text/plain": [
       "Text(0, 0.5, 'Percentage')"
      ]
     },
     "execution_count": 300,
     "metadata": {},
     "output_type": "execute_result"
    },
    {
     "data": {
      "image/png": "[encoded data removed]",
      "text/plain": [
       "<Figure size 432x288 with 1 Axes>"
      ]
     },
     "metadata": {
      "needs_background": "light"
     },
     "output_type": "display_data"
    }
   ],
   "source": [
    "pct_agriculture = sns.lineplot(data=employment, x=\"year\", y=\"pct_agriculture\")\n",
    "plt.title(\"Percentage of US labor population in the agriculture industry\")\n",
    "plt.xlabel(\"Year\")\n",
    "plt.ylabel(\"Percentage\")"
   ]
  },
  {
   "cell_type": "markdown",
   "id": "5039bfc1",
   "metadata": {},
   "source": [
    "It appears that the percentage of workers severely decreased over the period of 1940-1970, but has relatively slowed its decline in the most recent decades. Now, it appears to have flatlined around 1-2% depending on the year."
   ]
  },
  {
   "cell_type": "markdown",
   "id": "3eb241b5",
   "metadata": {},
   "source": [
    "## Has the percentage of the population in the labor force grown or shrank?"
   ]
  },
  {
   "cell_type": "markdown",
   "id": "f1e8adc5",
   "metadata": {},
   "source": [
    "Next up, has the percent of the population operating within the labor force increased or decreased over time?"
   ]
  },
  {
   "cell_type": "code",
   "execution_count": 301,
   "id": "2a4a4365",
   "metadata": {},
   "outputs": [
    {
     "data": {
      "text/plain": [
       "Text(0, 0.5, 'Percentage')"
      ]
     },
     "execution_count": 301,
     "metadata": {},
     "output_type": "execute_result"
    },
    {
     "data": {
      "image/png": "[encoded data removed]",
      "text/plain": [
       "<Figure size 432x288 with 1 Axes>"
      ]
     },
     "metadata": {
      "needs_background": "light"
     },
     "output_type": "display_data"
    }
   ],
   "source": [
    "labor_pop = sns.lineplot(data=employment, x=\"year\", y=\"population_percent\")\n",
    "plt.title(\"Population participation in the labor force\")\n",
    "plt.xlabel(\"Year\")\n",
    "plt.ylabel(\"Percentage\")"
   ]
  },
  {
   "cell_type": "markdown",
   "id": "212776cb",
   "metadata": {},
   "source": [
    "Initially the graph has some large peaks and valleys in the early 40s, but this is explained by the population flucuations during WW2. After, the graph appears to level out to gradual changes. We see a second boom when the baby boomers begin working in the late 70s, followed by sharp declines in the late 00s. This sharp decline is likely tied to baby boomers entering retirment age, coinciding with the 2008 recession pushing people out of the workforce. "
   ]
  },
  {
   "cell_type": "markdown",
   "id": "59d21f47",
   "metadata": {},
   "source": [
    "## Conclusions"
   ]
  },
  {
   "cell_type": "markdown",
   "id": "0f1cd72c",
   "metadata": {},
   "source": [
    "* For nearly all segments of the population, their share of the income within the economy has decreased over time. This shows that wealth has shifted more towards the top. This becomes evident when we analyze the earnings of the top 5%, which have seen a nearly 7% increase in their share of income growth over the past five decades. This dataset was only limited to the bottom earner of the top 5%, ie the 95 percentile earner. It would be interesting to see how this trend would continue with a dataset that shows the 1 percentile earner and 0.1 percentile earner.\n",
    "\n",
    "* There is little to no correlation between GDP growth and percentage of workers who are unemployed. While the correlation is weak, it is of some note that it trends positive. Typically, we would think years that saw GDP growth would be associated with higher labor utilization, but the data implies the opposite. More in depth analyisis on this question would be necessary before a conclusion could be reached.\n",
    "\n",
    "* When analyzing GDP and the Consumer Price Index, we see a nearly 1:1 correlation. This shows that prices directly increase to reflect the increase in GDP. While the correlation is high in a generalization of prices, it would be interesting to see how GDP growth affects prices of different goods; such as housing costs, education costs, food costs, and consumer vehicle costs.\n",
    "\n",
    "* GDP growth appears to be rather disconnected with labor force population. Initially, it seemed to be a rather linear correlation, but as the population has leveled out we have seen the opposite of what is reflected. Instead of GDP leveling out with population, we are seeing GDP growing at faster rates than ever before. Further analysis could help us narrow down if this is only due to inflation, or if modern workers are able to \"produce\" at a much higher value than in previous decades.\n",
    "\n",
    "* We found that the ratio of labor in agriculture had been on sharp decline for several decades, but then began to slow on its decrease around 1970. It appears to flatline around the 1-2% more recently. Further Analysis could help us determine if this flatline will hold as population size holds, or if we will see even smaller participation in the industry as more of it begings to be automated.\n",
    "\n",
    "* Lastly, we find that labor participation within the population is tied heavily to the baby boomer generation. Recently, as more of them begin to retire, we see sharp declines. Will this stabilize as their generation completely leave the workforce, or is this a snapshot of what is to come?"
   ]
  }
 ],
 "metadata": {
  "kernelspec": {
   "display_name": "Python 3 (ipykernel)",
   "language": "python",
   "name": "python3"
  },
  "language_info": {
   "codemirror_mode": {
    "name": "ipython",
    "version": 3
   },
   "file_extension": ".py",
   "mimetype": "text/x-python",
   "name": "python",
   "nbconvert_exporter": "python",
   "pygments_lexer": "ipython3",
   "version": "3.9.12"
  }
 },
 "nbformat": 4,
 "nbformat_minor": 5
}
